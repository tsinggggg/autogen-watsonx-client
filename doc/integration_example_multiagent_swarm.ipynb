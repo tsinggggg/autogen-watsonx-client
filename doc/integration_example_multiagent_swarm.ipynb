{
 "cells": [
  {
   "cell_type": "markdown",
   "id": "a3ffff3e-a959-47db-90ab-be7245090cab",
   "metadata": {},
   "source": [
    "## Intro\n",
    "\n",
    "This is an example notebook for demonstrating how the new [autogen>=0.4](https://github.com/microsoft/autogen) can utilize the LLMs hosted on [IBM® watsonx.ai™](https://www.ibm.com/products/watsonx-ai) by using the [autogen-watsonx-client](https://github.com/tsinggggg/autogen-watsonx-client)\n",
    "\n",
    "### prerequisites\n",
    "\n",
    "- pip install --upgrade autogen-watsonx-client\n",
    "- pip install --upgrade autogen-agentchat>=0.4 --pre\n",
    "- access to a watsonx.ai instance, setting up environment variables `WATSONX_API_KEY`, one of `WATSONX_SPACE_ID` or `WATSONX_PROJECT_ID`, optionally `WATSONX_URL`"
   ]
  },
  {
   "cell_type": "markdown",
   "id": "fd88d2ae-8f4b-4ec1-8262-21fc238914cf",
   "metadata": {},
   "source": [
    "### this is an example usage of the Swarm pattern with 2 agents"
   ]
  },
  {
   "cell_type": "code",
   "execution_count": 1,
   "id": "0327b180-672b-4b15-b206-d76474bd22a5",
   "metadata": {},
   "outputs": [],
   "source": [
    "from typing import Any, Dict, List\n",
    "import os\n",
    "from autogen_agentchat.agents import AssistantAgent\n",
    "from autogen_agentchat.conditions import HandoffTermination, TextMentionTermination\n",
    "from autogen_agentchat.messages import HandoffMessage\n",
    "from autogen_agentchat.teams import Swarm\n",
    "from autogen_agentchat.ui import Console\n",
    "\n",
    "from autogen_watsonx_client.config import WatsonxClientConfiguration\n",
    "from autogen_watsonx_client.client import WatsonXChatCompletionClient"
   ]
  },
  {
   "cell_type": "code",
   "execution_count": 2,
   "id": "cb6261a5-6bc2-4a8e-8656-1adeee5d0e8b",
   "metadata": {},
   "outputs": [],
   "source": [
    "wx_config = WatsonxClientConfiguration(\n",
    "    model_id=\"meta-llama/llama-3-3-70b-instruct\",  # pick a model you have access to on wx.ai here\n",
    "    api_key=os.environ.get(\"WATSONX_API_KEY\"),\n",
    "    url=os.environ.get(\"WATSONX_URL\"),\n",
    "    space_id=os.environ.get(\"WATSONX_SPACE_ID\"),\n",
    "    project_id=os.environ.get(\"WATSONX_PROJECT_ID\"),\n",
    "    temperature=0.2,\n",
    ")\n",
    "\n",
    "wx_client = WatsonXChatCompletionClient(**wx_config)"
   ]
  },
  {
   "cell_type": "markdown",
   "id": "6b5ddd64-3a80-47f4-83cd-e93cdb514475",
   "metadata": {},
   "source": [
    "### Tools"
   ]
  },
  {
   "cell_type": "code",
   "execution_count": 3,
   "id": "25ba5fd9-1c5a-4502-b85b-490799bd291c",
   "metadata": {},
   "outputs": [],
   "source": [
    "def refund_flight(flight_id: int) -> str:\n",
    "    \"\"\"Refund a flight\"\"\"\n",
    "    return f\"Flight {flight_id} refunded\""
   ]
  },
  {
   "cell_type": "code",
   "execution_count": 4,
   "id": "643d03e9-c513-4697-b347-cfe12ab13bf9",
   "metadata": {},
   "outputs": [],
   "source": [
    "travel_agent = AssistantAgent(\n",
    "    \"travel_agent\",\n",
    "    model_client=wx_client,\n",
    "    handoffs=[\"flights_refunder\", \"user\"],\n",
    "    system_message=\"\"\"You are a travel agent.\n",
    "    The flights_refunder is in charge of refunding flights.\n",
    "    If you need information from the user, you must first send your message, then you can handoff to the user.\n",
    "    Say TERMINATE in natural language when the travel planning is complete.\"\"\",\n",
    ")\n",
    "\n",
    "flights_refunder = AssistantAgent(\n",
    "    \"flights_refunder\",\n",
    "    model_client=wx_client,\n",
    "    handoffs=[\"travel_agent\", \"user\"],\n",
    "    tools=[refund_flight],\n",
    "    system_message=\"\"\"You are an agent specialized in refunding flights.\n",
    "    You have the ability to refund a flight using the refund_flight tool. Only make one tool call at a time.\n",
    "    Do NOT make up arguments. Always ask user in natural language to provide the arguments, then handoff to user.\n",
    "    Extremely important: Do NOT handoff to user without sending your message.\n",
    "    When the transaction is complete, handoff to the travel agent to finalize.\"\"\",\n",
    ")"
   ]
  },
  {
   "cell_type": "code",
   "execution_count": 5,
   "id": "086ebbec-26fd-4aa1-93c9-10ebad204d96",
   "metadata": {},
   "outputs": [],
   "source": [
    "termination = HandoffTermination(target=\"user\") | TextMentionTermination(\"TERMINATE\")\n",
    "team = Swarm([travel_agent, flights_refunder], termination_condition=termination)"
   ]
  },
  {
   "cell_type": "code",
   "execution_count": 6,
   "id": "710e7f31-1027-4239-b132-833f85c2c3b1",
   "metadata": {},
   "outputs": [
    {
     "name": "stdout",
     "output_type": "stream",
     "text": [
      "---------- user ----------\n",
      "I need to refund my flight.\n",
      "---------- travel_agent ----------\n",
      "[FunctionCall(id='chatcmpl-tool-105e2a3519f843948a0529a98ecbca61', arguments='{}', name='transfer_to_flights_refunder')]\n",
      "[Prompt tokens: 269, Completion tokens: 23]\n",
      "---------- travel_agent ----------\n",
      "[FunctionExecutionResult(content='Transferred to flights_refunder, adopting the role of flights_refunder immediately.', call_id='chatcmpl-tool-105e2a3519f843948a0529a98ecbca61')]\n",
      "---------- travel_agent ----------\n",
      "Transferred to flights_refunder, adopting the role of flights_refunder immediately.\n",
      "---------- flights_refunder ----------\n",
      "To proceed with the refund, I will need to know the flight ID of the flight you would like to refund. Please provide the flight ID.\n",
      "[Prompt tokens: 416, Completion tokens: 30]\n",
      "---------- flights_refunder ----------\n",
      "[FunctionCall(id='chatcmpl-tool-a4d8783e5ef14cb797e6571b6589f23f', arguments='{}', name='transfer_to_user')]\n",
      "[Prompt tokens: 450, Completion tokens: 21]\n",
      "---------- flights_refunder ----------\n",
      "[FunctionExecutionResult(content='Transferred to user, adopting the role of user immediately.', call_id='chatcmpl-tool-a4d8783e5ef14cb797e6571b6589f23f')]\n",
      "---------- flights_refunder ----------\n",
      "Transferred to user, adopting the role of user immediately.\n",
      "---------- Summary ----------\n",
      "Number of messages: 8\n",
      "Finish reason: Handoff to user from flights_refunder detected.\n",
      "Total prompt tokens: 1135\n",
      "Total completion tokens: 74\n",
      "Duration: 4.45 seconds\n"
     ]
    },
    {
     "name": "stdin",
     "output_type": "stream",
     "text": [
      "User:  sure, it's 9527\n"
     ]
    },
    {
     "name": "stdout",
     "output_type": "stream",
     "text": [
      "---------- user ----------\n",
      "sure, it's 9527\n",
      "---------- flights_refunder ----------\n",
      "[FunctionCall(id='chatcmpl-tool-6de6416f3f144bab805d1dba28e0dd5d', arguments='{\"flight_id\": \"9527\"}', name='refund_flight')]\n",
      "[Prompt tokens: 503, Completion tokens: 26]\n",
      "---------- flights_refunder ----------\n",
      "[FunctionExecutionResult(content='Flight 9527 refunded', call_id='chatcmpl-tool-6de6416f3f144bab805d1dba28e0dd5d')]\n",
      "---------- flights_refunder ----------\n",
      "[FunctionCall(id='chatcmpl-tool-0da53053a18f4bf6b61b3fb752ab04d5', arguments='{}', name='transfer_to_travel_agent')]\n",
      "[Prompt tokens: 542, Completion tokens: 15]\n",
      "---------- flights_refunder ----------\n",
      "[FunctionExecutionResult(content='Transferred to travel_agent, adopting the role of travel_agent immediately.', call_id='chatcmpl-tool-0da53053a18f4bf6b61b3fb752ab04d5')]\n",
      "---------- flights_refunder ----------\n",
      "Transferred to travel_agent, adopting the role of travel_agent immediately.\n",
      "---------- travel_agent ----------\n",
      "[FunctionCall(id='chatcmpl-tool-5c6e5e9bab0a49cd9e9f06ad85a937b7', arguments='{\"flight_id\": \"9527\"}', name='transfer_to_flights_refunder')]\n",
      "[Prompt tokens: 399, Completion tokens: 30]\n",
      "---------- travel_agent ----------\n",
      "[FunctionExecutionResult(content='Transferred to flights_refunder, adopting the role of flights_refunder immediately.', call_id='chatcmpl-tool-5c6e5e9bab0a49cd9e9f06ad85a937b7')]\n",
      "---------- travel_agent ----------\n",
      "Transferred to flights_refunder, adopting the role of flights_refunder immediately.\n",
      "---------- flights_refunder ----------\n",
      "You have already been refunded for flight 9527. Is there anything else I can help you with?\n",
      "[Prompt tokens: 607, Completion tokens: 22]\n",
      "---------- flights_refunder ----------\n",
      "[FunctionCall(id='chatcmpl-tool-064a2385d85144d88ea41545d9d63fe8', arguments='{}', name='transfer_to_user')]\n",
      "[Prompt tokens: 633, Completion tokens: 14]\n",
      "---------- flights_refunder ----------\n",
      "[FunctionExecutionResult(content='Transferred to user, adopting the role of user immediately.', call_id='chatcmpl-tool-064a2385d85144d88ea41545d9d63fe8')]\n",
      "---------- flights_refunder ----------\n",
      "Transferred to user, adopting the role of user immediately.\n",
      "---------- Summary ----------\n",
      "Number of messages: 13\n",
      "Finish reason: Handoff to user from flights_refunder detected.\n",
      "Total prompt tokens: 2684\n",
      "Total completion tokens: 107\n",
      "Duration: 7.27 seconds\n"
     ]
    },
    {
     "name": "stdin",
     "output_type": "stream",
     "text": [
      "User:  no i am good\n"
     ]
    },
    {
     "name": "stdout",
     "output_type": "stream",
     "text": [
      "---------- user ----------\n",
      "no i am good\n",
      "---------- flights_refunder ----------\n",
      "You're all set then. If you have any other flights you'd like to refund in the future, don't hesitate to reach out. Have a great day!\n",
      "[Prompt tokens: 683, Completion tokens: 34]\n",
      "---------- flights_refunder ----------\n",
      "[FunctionCall(id='chatcmpl-tool-52909d8b80ea450cabcc8877e0ccf0b8', arguments='{}', name='transfer_to_travel_agent')]\n",
      "[Prompt tokens: 721, Completion tokens: 15]\n",
      "---------- flights_refunder ----------\n",
      "[FunctionExecutionResult(content='Transferred to travel_agent, adopting the role of travel_agent immediately.', call_id='chatcmpl-tool-52909d8b80ea450cabcc8877e0ccf0b8')]\n",
      "---------- flights_refunder ----------\n",
      "Transferred to travel_agent, adopting the role of travel_agent immediately.\n",
      "---------- travel_agent ----------\n",
      "TERMINATE\n",
      "[Prompt tokens: 562, Completion tokens: 4]\n",
      "---------- Summary ----------\n",
      "Number of messages: 6\n",
      "Finish reason: Text 'TERMINATE' mentioned\n",
      "Total prompt tokens: 1966\n",
      "Total completion tokens: 53\n",
      "Duration: 3.15 seconds\n"
     ]
    }
   ],
   "source": [
    "task = \"I need to refund my flight.\"\n",
    "\n",
    "\n",
    "async def run_team_stream() -> None:\n",
    "    task_result = await Console(team.run_stream(task=task))\n",
    "    last_message = task_result.messages[-1]\n",
    "\n",
    "    while isinstance(last_message, HandoffMessage) and last_message.target == \"user\":\n",
    "        user_message = input(\"User: \")\n",
    "\n",
    "        task_result = await Console(\n",
    "            team.run_stream(task=HandoffMessage(source=\"user\", target=last_message.source, content=user_message))\n",
    "        )\n",
    "        last_message = task_result.messages[-1]\n",
    "\n",
    "\n",
    "await run_team_stream()"
   ]
  }
 ],
 "metadata": {
  "kernelspec": {
   "display_name": "Python 3 (ipykernel)",
   "language": "python",
   "name": "python3"
  },
  "language_info": {
   "codemirror_mode": {
    "name": "ipython",
    "version": 3
   },
   "file_extension": ".py",
   "mimetype": "text/x-python",
   "name": "python",
   "nbconvert_exporter": "python",
   "pygments_lexer": "ipython3",
   "version": "3.11.10"
  }
 },
 "nbformat": 4,
 "nbformat_minor": 5
}

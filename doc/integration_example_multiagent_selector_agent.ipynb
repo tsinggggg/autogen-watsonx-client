{
 "cells": [
  {
   "cell_type": "markdown",
   "id": "a3ffff3e-a959-47db-90ab-be7245090cab",
   "metadata": {},
   "source": [
    "## Intro\n",
    "\n",
    "This is an example notebook for demonstrating how the new [autogen>=0.4](https://github.com/microsoft/autogen) can utilize the LLMs hosted on [IBM® watsonx.ai™](https://www.ibm.com/products/watsonx-ai) by using the [autogen-watsonx-client](https://github.com/tsinggggg/autogen-watsonx-client)\n",
    "\n",
    "### prerequisites\n",
    "\n",
    "- pip install --upgrade autogen-watsonx-client\n",
    "- pip install --upgrade autogen-agentchat>=0.4 --pre\n",
    "- access to a watsonx.ai instance, setting up environment variables `WATSONX_API_KEY`, one of `WATSONX_SPACE_ID` or `WATSONX_PROJECT_ID`, optionally `WATSONX_URL`"
   ]
  },
  {
   "cell_type": "markdown",
   "id": "fd88d2ae-8f4b-4ec1-8262-21fc238914cf",
   "metadata": {},
   "source": [
    "### this is an example usage of the selector group chat pattern with 2 agents"
   ]
  },
  {
   "cell_type": "code",
   "execution_count": 1,
   "id": "0327b180-672b-4b15-b206-d76474bd22a5",
   "metadata": {},
   "outputs": [],
   "source": [
    "import os\n",
    "import asyncio\n",
    "from typing import List, Sequence\n",
    "\n",
    "from autogen_agentchat.agents import AssistantAgent, ToolUseAssistantAgent, BaseChatAgent\n",
    "from autogen_agentchat.task import Console, TextMentionTermination\n",
    "from autogen_agentchat.teams import SelectorGroupChat\n",
    "\n",
    "from autogen_agentchat.base import Response\n",
    "from autogen_agentchat.messages import ChatMessage, StopMessage, TextMessage\n",
    "from autogen_core.base import CancellationToken\n",
    "from autogen_core.components.tools import FunctionTool\n",
    "\n",
    "from autogen_watsonx_client.config import WatsonxClientConfiguration\n",
    "from autogen_watsonx_client.client import WatsonXChatCompletionClient"
   ]
  },
  {
   "cell_type": "code",
   "execution_count": 2,
   "id": "cb6261a5-6bc2-4a8e-8656-1adeee5d0e8b",
   "metadata": {},
   "outputs": [],
   "source": [
    "wx_config = WatsonxClientConfiguration(\n",
    "    model_id=\"meta-llama/llama-3-2-90b-vision-instruct\",  # pick a model you have access to on wx.ai here\n",
    "    api_key=os.environ.get(\"WATSONX_API_KEY\"),\n",
    "    url=os.environ.get(\"WATSONX_URL\"),\n",
    "    space_id=os.environ.get(\"WATSONX_SPACE_ID\"),\n",
    "    project_id=os.environ.get(\"WATSONX_PROJECT_ID\"),\n",
    "    temperature=0.2,\n",
    ")\n",
    "\n",
    "wx_client = WatsonXChatCompletionClient(**wx_config)"
   ]
  },
  {
   "cell_type": "code",
   "execution_count": 3,
   "id": "4ddc8766-a9bf-49db-9bb8-805b02b801fd",
   "metadata": {},
   "outputs": [],
   "source": [
    "class UserProxyAgent(BaseChatAgent):\n",
    "    def __init__(self, name: str) -> None:\n",
    "        super().__init__(name, \"A human user.\")\n",
    "\n",
    "    @property\n",
    "    def produced_message_types(self) -> List[type[ChatMessage]]:\n",
    "        return [TextMessage, StopMessage]\n",
    "\n",
    "    async def on_messages(self, messages: Sequence[ChatMessage], cancellation_token: CancellationToken) -> Response:\n",
    "        user_input = await asyncio.get_event_loop().run_in_executor(None, input, \"Enter your response: \")\n",
    "        if \"TERMINATE\" in user_input:\n",
    "            return Response(chat_message=StopMessage(content=\"User has terminated the conversation.\", source=self.name))\n",
    "        return Response(chat_message=TextMessage(content=user_input, source=self.name))\n",
    "\n",
    "    async def on_reset(self, cancellation_token: CancellationToken) -> None:\n",
    "        pass"
   ]
  },
  {
   "cell_type": "code",
   "execution_count": 4,
   "id": "8bf08b8e-5849-4fcf-886d-c7911534519c",
   "metadata": {
    "scrolled": true
   },
   "outputs": [
    {
     "name": "stderr",
     "output_type": "stream",
     "text": [
      "/tmp/ipykernel_300307/4010229807.py:31: DeprecationWarning: ToolUseAssistantAgent is deprecated. Use AssistantAgent instead.\n",
      "  weather_agent = ToolUseAssistantAgent(\n",
      "/tmp/ipykernel_300307/4010229807.py:47: DeprecationWarning: ToolUseAssistantAgent is deprecated. Use AssistantAgent instead.\n",
      "  currency_agent = ToolUseAssistantAgent(\n"
     ]
    },
    {
     "name": "stdout",
     "output_type": "stream",
     "text": [
      "---------- user ----------\n",
      "What is the weather in New York\n",
      "---------- weather_agent ----------\n",
      "[FunctionCall(id='chatcmpl-tool-6ec4a0ce4b1341fcbec192e45d49bbb7', arguments='{\"city\": \"New York\"}', name='get_weather')]\n",
      "[Prompt tokens: 287, Completion tokens: 19]\n",
      "---------- weather_agent ----------\n",
      "[FunctionExecutionResult(content='The weather in New York is 73 degrees and Sunny.', call_id='chatcmpl-tool-6ec4a0ce4b1341fcbec192e45d49bbb7')]\n",
      "---------- weather_agent ----------\n",
      "The weather in New York is 73 degrees and Sunny.\n",
      "[Prompt tokens: 321, Completion tokens: 13]\n"
     ]
    },
    {
     "name": "stdin",
     "output_type": "stream",
     "text": [
      "Enter your response:  now tell me how much EUR do i need to exchange for 1000 USD\n"
     ]
    },
    {
     "name": "stdout",
     "output_type": "stream",
     "text": [
      "---------- User ----------\n",
      "now tell me how much EUR do i need to exchange for 1000 USD\n",
      "---------- currency_agent ----------\n",
      "[FunctionCall(id='chatcmpl-tool-412164c8303046399fdf70fd133b1f7e', arguments='{\"base_amount\": \"1000\", \"base_currency\": \"USD\", \"quote_currency\": \"EUR\"}', name='currency_calculator')]\n",
      "[Prompt tokens: 462, Completion tokens: 41]\n",
      "---------- currency_agent ----------\n",
      "[FunctionExecutionResult(content='909.09 EUR', call_id='chatcmpl-tool-412164c8303046399fdf70fd133b1f7e')]\n",
      "---------- currency_agent ----------\n",
      "You will need 909.09 EUR to exchange for 1000 USD.\n",
      "[Prompt tokens: 504, Completion tokens: 17]\n"
     ]
    },
    {
     "name": "stdin",
     "output_type": "stream",
     "text": [
      "Enter your response:  ok i am good\n"
     ]
    },
    {
     "name": "stdout",
     "output_type": "stream",
     "text": [
      "---------- User ----------\n",
      "ok i am good\n",
      "---------- weather_agent ----------\n",
      "TERMINATE\n",
      "[Prompt tokens: 460, Completion tokens: 4]\n",
      "---------- Summary ----------\n",
      "Number of messages: 10\n",
      "Finish reason: Text 'TERMINATE' mentioned\n",
      "Total prompt tokens: 2034\n",
      "Total completion tokens: 94\n",
      "Duration: 59.81 seconds\n"
     ]
    }
   ],
   "source": [
    "# Define a tool\n",
    "async def get_weather(city: str) -> str:\n",
    "    return f\"The weather in {city} is 73 degrees and Sunny.\"\n",
    "\n",
    "# Define another tool\n",
    "from typing import Literal, Annotated\n",
    "\n",
    "CurrencySymbol = Literal[\"USD\", \"EUR\"]\n",
    "\n",
    "def exchange_rate(base_currency: CurrencySymbol, quote_currency: CurrencySymbol) -> float:\n",
    "    if base_currency == quote_currency:\n",
    "        return 1.0\n",
    "    elif base_currency == \"USD\" and quote_currency == \"EUR\":\n",
    "        return 1 / 1.1\n",
    "    elif base_currency == \"EUR\" and quote_currency == \"USD\":\n",
    "        return 1.1\n",
    "    else:\n",
    "        raise ValueError(f\"Unknown currencies {base_currency}, {quote_currency}\")\n",
    "        \n",
    "async def currency_calculator(\n",
    "    base_amount: Annotated[float, \"Amount of currency in base_currency\"],\n",
    "    base_currency: Annotated[CurrencySymbol, \"Base currency\"] = \"USD\",\n",
    "    quote_currency: Annotated[CurrencySymbol, \"Quote currency\"] = \"EUR\",\n",
    ") -> str:\n",
    "    quote_amount = exchange_rate(base_currency, quote_currency) * base_amount\n",
    "    return f\"{format(quote_amount, '.2f')} {quote_currency}\"\n",
    "\n",
    "\n",
    "async def main() -> None:\n",
    "    # Define an agent\n",
    "    weather_agent = ToolUseAssistantAgent(\n",
    "        name=\"weather_agent\",\n",
    "        model_client=wx_client,\n",
    "        registered_tools=[\n",
    "            FunctionTool(get_weather, description=\"get weather for a given city\"),\n",
    "            ],\n",
    "        system_message=\\\n",
    "        \"You specialize in requests about weather. Solve tasks ONLY by using your tools. \"\n",
    "        \"Do what you can, ignore what you can't do.\"\n",
    "        \"Do NOT comment on your capabilitites.\"\n",
    "        \"You should always rephrase tool call results with your own language.\"\n",
    "        \"Do NOT make comments about anything other than weather topics.\"\n",
    "        \"Reply with 'TERMINATE' when the task has been completed.\",\n",
    "    )\n",
    "\n",
    "    # Define another agent\n",
    "    currency_agent = ToolUseAssistantAgent(\n",
    "        name=\"currency_agent\",\n",
    "        model_client=wx_client,\n",
    "        registered_tools=[\n",
    "            FunctionTool(currency_calculator, description=\"currency conversion calculator\"),\n",
    "            ],\n",
    "        system_message=\\\n",
    "        \"You specialize in requests about currency. Solve tasks ONLY by using your tools. \"\n",
    "        \"Do what you can, ignore what you can't do.\"\n",
    "        \"Do NOT comment on your capabilitites.\"\n",
    "        \"You should always rephrase tool call results with your own language.\"\n",
    "        \"Do NOT make comments about anything other than currency topics.\"\n",
    "        \"Reply with 'TERMINATE' when the task has been completed.\", \n",
    "    )\n",
    "\n",
    "    # Define termination condition\n",
    "    termination = TextMentionTermination(\"TERMINATE\")\n",
    "\n",
    "    # Define a team\n",
    "    user_proxy = UserProxyAgent(\"User\")\n",
    "\n",
    "    agent_team = SelectorGroupChat(\n",
    "        [user_proxy, weather_agent, currency_agent],\n",
    "        model_client=wx_client,\n",
    "        termination_condition=termination,\n",
    "    )\n",
    "    # Run the team and stream messages to the console\n",
    "    stream = agent_team.run_stream(task=\"What is the weather in New York\")\n",
    "    await Console(stream)\n",
    "\n",
    "\n",
    "# NOTE: if running this inside a Python script you'll need to use asyncio.run(main()).\n",
    "await main()"
   ]
  }
 ],
 "metadata": {
  "kernelspec": {
   "display_name": "Python 3 (ipykernel)",
   "language": "python",
   "name": "python3"
  },
  "language_info": {
   "codemirror_mode": {
    "name": "ipython",
    "version": 3
   },
   "file_extension": ".py",
   "mimetype": "text/x-python",
   "name": "python",
   "nbconvert_exporter": "python",
   "pygments_lexer": "ipython3",
   "version": "3.11.10"
  }
 },
 "nbformat": 4,
 "nbformat_minor": 5
}

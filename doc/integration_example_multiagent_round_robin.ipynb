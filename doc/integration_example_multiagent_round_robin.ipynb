{
 "cells": [
  {
   "cell_type": "markdown",
   "id": "a3ffff3e-a959-47db-90ab-be7245090cab",
   "metadata": {},
   "source": [
    "## Intro\n",
    "\n",
    "This is an example notebook for demonstrating how the new [autogen>=0.4](https://github.com/microsoft/autogen) can utilize the LLMs hosted on [IBM® watsonx.ai™](https://www.ibm.com/products/watsonx-ai) by using the [autogen-watsonx-client](https://github.com/tsinggggg/autogen-watsonx-client)\n",
    "\n",
    "### prerequisites\n",
    "\n",
    "- pip install --upgrade autogen-watsonx-client\n",
    "- pip install --upgrade autogen-agentchat>=0.4 --pre\n",
    "- access to a watsonx.ai instance, setting up environment variables `WATSONX_API_KEY`, one of `WATSONX_SPACE_ID` or `WATSONX_PROJECT_ID`, optionally `WATSONX_URL`"
   ]
  },
  {
   "cell_type": "markdown",
   "id": "fd88d2ae-8f4b-4ec1-8262-21fc238914cf",
   "metadata": {},
   "source": [
    "### this is an example usage of the round robin group chat pattern with 2 agents"
   ]
  },
  {
   "cell_type": "code",
   "execution_count": 1,
   "id": "0327b180-672b-4b15-b206-d76474bd22a5",
   "metadata": {},
   "outputs": [],
   "source": [
    "import os\n",
    "\n",
    "from autogen_agentchat.agents import AssistantAgent\n",
    "from autogen_agentchat.task import Console, TextMentionTermination\n",
    "from autogen_agentchat.teams import RoundRobinGroupChat\n",
    "from autogen_watsonx_client.config import WatsonxClientConfiguration\n",
    "from autogen_watsonx_client.client import WatsonXChatCompletionClient"
   ]
  },
  {
   "cell_type": "code",
   "execution_count": 2,
   "id": "cb6261a5-6bc2-4a8e-8656-1adeee5d0e8b",
   "metadata": {},
   "outputs": [],
   "source": [
    "wx_config = WatsonxClientConfiguration(\n",
    "    model_id=\"meta-llama/llama-3-2-90b-vision-instruct\",  # pick a model you have access to on wx.ai here\n",
    "    api_key=os.environ.get(\"WATSONX_API_KEY\"),\n",
    "    url=os.environ.get(\"WATSONX_URL\"),\n",
    "    space_id=os.environ.get(\"WATSONX_SPACE_ID\"),\n",
    "    project_id=os.environ.get(\"WATSONX_PROJECT_ID\"),\n",
    "    temperature=0.2,\n",
    ")\n",
    "\n",
    "wx_client = WatsonXChatCompletionClient(**wx_config)"
   ]
  },
  {
   "cell_type": "code",
   "execution_count": 3,
   "id": "8bf08b8e-5849-4fcf-886d-c7911534519c",
   "metadata": {
    "scrolled": true
   },
   "outputs": [
    {
     "name": "stdout",
     "output_type": "stream",
     "text": [
      "---------- user ----------\n",
      "What is the weather in New York and can you tell me how much is 123.45 EUR in USD so I can spend it on my holiday? \n",
      "---------- weather_agent ----------\n",
      "[FunctionCall(id='chatcmpl-tool-6591b444c1fa4098aae6181556921fd5', arguments='{\"city\": \"New York\"}', name='get_weather')]\n",
      "[Prompt tokens: 304, Completion tokens: 25]\n",
      "---------- weather_agent ----------\n",
      "[FunctionExecutionResult(content='The weather in New York is 73 degrees and Sunny.', call_id='chatcmpl-tool-6591b444c1fa4098aae6181556921fd5')]\n",
      "---------- weather_agent ----------\n",
      "I don't have have access to a currency conversion function, but I can help with the rest of your request. The weather in New York is 73 degrees and Sunny.\n",
      "[Prompt tokens: 338, Completion tokens: 36]\n",
      "---------- currency_agent ----------\n",
      "[FunctionCall(id='chatcmpl-tool-c30c4dcfb2e24a86b0ca3a709e3cc55c', arguments='{\"base_amount\": \"123\", \"base_currency\": \"EUR\", \"quote_currency\": \"USD\"}', name='currency_calculator')]\n",
      "[Prompt tokens: 471, Completion tokens: 34]\n",
      "---------- currency_agent ----------\n",
      "[FunctionExecutionResult(content='135.30 USD', call_id='chatcmpl-tool-c30c4dcfb2e24a86b0ca3a709e3cc55c')]\n",
      "---------- currency_agent ----------\n",
      "You have 135.30 USD to spend on your holiday in New York, where the weather is 73 degrees and sunny.\n",
      "[Prompt tokens: 512, Completion tokens: 27]\n",
      "---------- weather_agent ----------\n",
      "TERMINATE\n",
      "[Prompt tokens: 454, Completion tokens: 4]\n",
      "---------- Summary ----------\n",
      "Number of messages: 8\n",
      "Finish reason: Text 'TERMINATE' mentioned\n",
      "Total prompt tokens: 2079\n",
      "Total completion tokens: 126\n",
      "Duration: 5.75 seconds\n"
     ]
    }
   ],
   "source": [
    "# Define a tool\n",
    "async def get_weather(city: str) -> str:\n",
    "    return f\"The weather in {city} is 73 degrees and Sunny.\"\n",
    "\n",
    "# Define another tool\n",
    "from typing import Literal, Annotated\n",
    "\n",
    "CurrencySymbol = Literal[\"USD\", \"EUR\"]\n",
    "\n",
    "def exchange_rate(base_currency: CurrencySymbol, quote_currency: CurrencySymbol) -> float:\n",
    "    if base_currency == quote_currency:\n",
    "        return 1.0\n",
    "    elif base_currency == \"USD\" and quote_currency == \"EUR\":\n",
    "        return 1 / 1.1\n",
    "    elif base_currency == \"EUR\" and quote_currency == \"USD\":\n",
    "        return 1.1\n",
    "    else:\n",
    "        raise ValueError(f\"Unknown currencies {base_currency}, {quote_currency}\")\n",
    "        \n",
    "async def currency_calculator(\n",
    "    base_amount: Annotated[float, \"Amount of currency in base_currency\"],\n",
    "    base_currency: Annotated[CurrencySymbol, \"Base currency\"] = \"USD\",\n",
    "    quote_currency: Annotated[CurrencySymbol, \"Quote currency\"] = \"EUR\",\n",
    ") -> str:\n",
    "    quote_amount = exchange_rate(base_currency, quote_currency) * base_amount\n",
    "    return f\"{format(quote_amount, '.2f')} {quote_currency}\"\n",
    "\n",
    "\n",
    "async def main() -> None:\n",
    "    # Define an agent\n",
    "    weather_agent = AssistantAgent(\n",
    "        name=\"weather_agent\",\n",
    "        model_client=wx_client,\n",
    "        tools=[get_weather],\n",
    "        system_message=\\\n",
    "        \"You specialize in requests about weather. Solve tasks ONLY by using your tools. \"\n",
    "        \"Do what you can, ignore what you can't do.\"\n",
    "        \"Do NOT comment on your capabilitites.\"\n",
    "        \"You should always rephrase tool call results with your own language.\"\n",
    "        \"Do NOT make comments about anything other than weather topics.\"\n",
    "        \"Reply with 'TERMINATE' when the task has been completed.\",\n",
    "    )\n",
    "\n",
    "    # Define another agent\n",
    "    currency_agent = AssistantAgent(\n",
    "        name=\"currency_agent\",\n",
    "        model_client=wx_client,\n",
    "        tools=[currency_calculator],\n",
    "        system_message=\\\n",
    "        \"You specialize in requests about currency. Solve tasks ONLY by using your tools. \"\n",
    "        \"Do what you can, ignore what you can't do.\"\n",
    "        \"Do NOT comment on your capabilitites.\"\n",
    "        \"You should always rephrase tool call results with your own language.\"\n",
    "        \"Do NOT make comments about anything other than currency topics.\"\n",
    "        \"Reply with 'TERMINATE' when the task has been completed.\", \n",
    "    )\n",
    "\n",
    "    # Define termination condition\n",
    "    termination = TextMentionTermination(\"TERMINATE\")\n",
    "\n",
    "    # Define a team\n",
    "    agent_team = RoundRobinGroupChat([weather_agent, currency_agent], termination_condition=termination)\n",
    "\n",
    "    # Run the team and stream messages to the console\n",
    "    stream = agent_team.run_stream(task=\"What is the weather in New York and can you tell me how much is 123.45 EUR in USD so I can spend it on my holiday? \")\n",
    "    await Console(stream)\n",
    "\n",
    "\n",
    "# NOTE: if running this inside a Python script you'll need to use asyncio.run(main()).\n",
    "await main()"
   ]
  },
  {
   "cell_type": "code",
   "execution_count": null,
   "id": "f6fc7164-5abf-49d8-8594-6da15248e5ba",
   "metadata": {},
   "outputs": [],
   "source": []
  }
 ],
 "metadata": {
  "kernelspec": {
   "display_name": "Python 3 (ipykernel)",
   "language": "python",
   "name": "python3"
  },
  "language_info": {
   "codemirror_mode": {
    "name": "ipython",
    "version": 3
   },
   "file_extension": ".py",
   "mimetype": "text/x-python",
   "name": "python",
   "nbconvert_exporter": "python",
   "pygments_lexer": "ipython3",
   "version": "3.11.10"
  }
 },
 "nbformat": 4,
 "nbformat_minor": 5
}

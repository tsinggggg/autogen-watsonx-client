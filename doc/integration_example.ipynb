{
 "cells": [
  {
   "cell_type": "markdown",
   "id": "a3ffff3e-a959-47db-90ab-be7245090cab",
   "metadata": {},
   "source": [
    "## Intro\n",
    "\n",
    "This is an example notebook for demonstrating how the new [autogen>=0.4](https://github.com/microsoft/autogen) can utilize the LLMs hosted on [IBM® watsonx.ai™](https://www.ibm.com/products/watsonx-ai) by using the [autogen-watsonx-client](https://github.com/tsinggggg/autogen-watsonx-client)\n",
    "\n",
    "### prerequisites\n",
    "\n",
    "- pip install --upgrade autogen-watsonx-client\n",
    "- pip install --upgrade autogen-agentchat>=0.4 --pre\n",
    "- access to a watsonx.ai instance, setting up environment variables `WATSONX_API_KEY`, one of `WATSONX_SPACE_ID` or `WATSONX_PROJECT_ID`, optionally `WATSONX_URL`"
   ]
  },
  {
   "cell_type": "code",
   "execution_count": 1,
   "id": "0327b180-672b-4b15-b206-d76474bd22a5",
   "metadata": {},
   "outputs": [],
   "source": [
    "import os\n",
    "\n",
    "from autogen_agentchat.agents import AssistantAgent\n",
    "from autogen_agentchat.task import Console, TextMentionTermination\n",
    "from autogen_agentchat.teams import RoundRobinGroupChat\n",
    "from autogen_watsonx_client.config import WatsonxClientConfiguration\n",
    "from autogen_watsonx_client.client import WatsonXChatCompletionClient"
   ]
  },
  {
   "cell_type": "code",
   "execution_count": 2,
   "id": "cb6261a5-6bc2-4a8e-8656-1adeee5d0e8b",
   "metadata": {},
   "outputs": [],
   "source": [
    "wx_config = WatsonxClientConfiguration(\n",
    "    model_id=\"meta-llama/llama-3-2-90b-vision-instruct\",  # pick a model you have access to on wx.ai here\n",
    "    api_key=os.environ.get(\"WATSONX_API_KEY\"),\n",
    "    url=os.environ.get(\"WATSONX_URL\"),\n",
    "    space_id=os.environ.get(\"WATSONX_SPACE_ID\"),\n",
    "    project_id=os.environ.get(\"WATSONX_PROJECT_ID\"),\n",
    ")\n",
    "\n",
    "wx_client = WatsonXChatCompletionClient(**wx_config)"
   ]
  },
  {
   "cell_type": "code",
   "execution_count": 3,
   "id": "8bf08b8e-5849-4fcf-886d-c7911534519c",
   "metadata": {},
   "outputs": [
    {
     "name": "stdout",
     "output_type": "stream",
     "text": [
      "---------- user ----------\n",
      "What is the weather in New York?\n",
      "---------- weather_agent ----------\n",
      "[FunctionCall(id='chatcmpl-tool-e29c8d140a60450799914943abffee3a', arguments='{\"city\": \"New York\"}', name='get_weather')]\n",
      "[Prompt tokens: 237, Completion tokens: 19]\n",
      "---------- weather_agent ----------\n",
      "[FunctionExecutionResult(content='The weather in New York is 73 degrees and Sunny.', call_id='chatcmpl-tool-e29c8d140a60450799914943abffee3a')]\n",
      "---------- weather_agent ----------\n",
      "The weather in New York is 73 degrees and Sunny.\n",
      "[Prompt tokens: 315, Completion tokens: 13]\n",
      "---------- weather_agent ----------\n",
      "<|python_tag|>TERMINATE\n",
      "[Prompt tokens: 321, Completion tokens: 5]\n",
      "---------- Summary ----------\n",
      "Number of messages: 5\n",
      "Finish reason: Text 'TERMINATE' mentioned\n",
      "Total prompt tokens: 873\n",
      "Total completion tokens: 37\n",
      "Duration: 2.56 seconds\n"
     ]
    }
   ],
   "source": [
    "# Define a tool\n",
    "async def get_weather(city: str) -> str:\n",
    "    return f\"The weather in {city} is 73 degrees and Sunny.\"\n",
    "\n",
    "\n",
    "async def main() -> None:\n",
    "    # Define an agent\n",
    "    weather_agent = AssistantAgent(\n",
    "        name=\"weather_agent\",\n",
    "        model_client=wx_client,\n",
    "        tools=[get_weather],\n",
    "    )\n",
    "\n",
    "    # Define termination condition\n",
    "    termination = TextMentionTermination(\"TERMINATE\")\n",
    "\n",
    "    # Define a team\n",
    "    agent_team = RoundRobinGroupChat([weather_agent], termination_condition=termination)\n",
    "\n",
    "    # Run the team and stream messages to the console\n",
    "    stream = agent_team.run_stream(task=\"What is the weather in New York?\")\n",
    "    await Console(stream)\n",
    "\n",
    "\n",
    "# NOTE: if running this inside a Python script you'll need to use asyncio.run(main()).\n",
    "await main()"
   ]
  }
 ],
 "metadata": {
  "kernelspec": {
   "display_name": "Python 3 (ipykernel)",
   "language": "python",
   "name": "python3"
  },
  "language_info": {
   "codemirror_mode": {
    "name": "ipython",
    "version": 3
   },
   "file_extension": ".py",
   "mimetype": "text/x-python",
   "name": "python",
   "nbconvert_exporter": "python",
   "pygments_lexer": "ipython3",
   "version": "3.11.10"
  }
 },
 "nbformat": 4,
 "nbformat_minor": 5
}
